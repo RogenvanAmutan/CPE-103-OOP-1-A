{
  "nbformat": 4,
  "nbformat_minor": 0,
  "metadata": {
    "colab": {
      "provenance": [],
      "authorship_tag": "ABX9TyNvmgdT87dq7n242FrYKWIF",
      "include_colab_link": true
    },
    "kernelspec": {
      "name": "python3",
      "display_name": "Python 3"
    },
    "language_info": {
      "name": "python"
    }
  },
  "cells": [
    {
      "cell_type": "markdown",
      "metadata": {
        "id": "view-in-github",
        "colab_type": "text"
      },
      "source": [
        "<a href=\"https://colab.research.google.com/github/RogenvanAmutan/CPE-103-OOP-1-A/blob/main/PYTHON_FUNDAMENTALS.ipynb\" target=\"_parent\"><img src=\"https://colab.research.google.com/assets/colab-badge.svg\" alt=\"Open In Colab\"/></a>"
      ]
    },
    {
      "cell_type": "markdown",
      "source": [
        "Python Indentation"
      ],
      "metadata": {
        "id": "inPuTqGxFrlQ"
      }
    },
    {
      "cell_type": "code",
      "execution_count": null,
      "metadata": {
        "colab": {
          "base_uri": "https://localhost:8080/"
        },
        "id": "aQG9P3b-E2N9",
        "outputId": "402c9fd6-8b25-44a7-d55b-89933180d690"
      },
      "outputs": [
        {
          "output_type": "stream",
          "name": "stdout",
          "text": [
            "five is greater than two!\n"
          ]
        }
      ],
      "source": [
        "if 5>2:\n",
        "  print(\"Five is greater than two!\")"
      ]
    },
    {
      "cell_type": "markdown",
      "source": [
        "Python Comments"
      ],
      "metadata": {
        "id": "yYkMzcSBIweK"
      }
    },
    {
      "cell_type": "code",
      "execution_count": null,
      "metadata": {
        "colab": {
          "base_uri": "https://localhost:8080/"
        },
        "outputId": "37be73b5-c315-4e7d-e24c-85112ada86b5",
        "id": "4QcdyRWWIyR0"
      },
      "outputs": [
        {
          "output_type": "stream",
          "name": "stdout",
          "text": [
            "Hello World!\n"
          ]
        }
      ],
      "source": [
        "#This is a comment\n",
        "print (\"Hello World!\")"
      ]
    },
    {
      "cell_type": "markdown",
      "source": [
        "Variable naming comventions"
      ],
      "metadata": {
        "id": "GHeaxQ3KJsQA"
      }
    },
    {
      "cell_type": "code",
      "source": [],
      "metadata": {
        "id": "T5-9nF18JxFB"
      },
      "execution_count": null,
      "outputs": []
    },
    {
      "cell_type": "markdown",
      "source": [
        "Python Variable\n"
      ],
      "metadata": {
        "id": "JMyBgVRDKYBB"
      }
    },
    {
      "cell_type": "code",
      "source": [
        "z = 1\n",
        "a,b = 0,-1\n",
        "a,b,c = 0,-1,2\n"
      ],
      "metadata": {
        "id": "BXRy0V6uKcyx"
      },
      "execution_count": null,
      "outputs": []
    },
    {
      "cell_type": "markdown",
      "source": [
        "Casting"
      ],
      "metadata": {
        "id": "Y7HyBnqIMMH5"
      }
    },
    {
      "cell_type": "code",
      "source": [
        "b=\"sally\" #this is a type of string\n",
        "b= int(4)\n",
        "print(b)\n",
        "\n",
        "b=float(4)\n",
        "print(b)"
      ],
      "metadata": {
        "colab": {
          "base_uri": "https://localhost:8080/"
        },
        "id": "MWoXgzIsMRlR",
        "outputId": "b6b6e103-cb4e-4ad2-d4ef-6763853d8c39"
      },
      "execution_count": null,
      "outputs": [
        {
          "output_type": "stream",
          "name": "stdout",
          "text": [
            "4\n",
            "4.0\n"
          ]
        }
      ]
    },
    {
      "cell_type": "markdown",
      "source": [
        "Type () Function"
      ],
      "metadata": {
        "id": "3genTMNqNbvi"
      }
    },
    {
      "cell_type": "code",
      "source": [
        "x=5\n",
        "y=\"john\"\n",
        "print (type(x))\n",
        "print(type(y))\n"
      ],
      "metadata": {
        "colab": {
          "base_uri": "https://localhost:8080/"
        },
        "id": "ScVnE8cKNC9C",
        "outputId": "3dd632f9-ae48-45ce-adbd-2ff05a82c8a9"
      },
      "execution_count": null,
      "outputs": [
        {
          "output_type": "stream",
          "name": "stdout",
          "text": [
            "<class 'int'>\n",
            "<class 'str'>\n"
          ]
        }
      ]
    },
    {
      "cell_type": "markdown",
      "source": [
        "\"Double quotes\" or 'Single' Quotes"
      ],
      "metadata": {
        "id": "XajKQ1UWN53h"
      }
    },
    {
      "cell_type": "code",
      "source": [
        "y=\"john\"\n",
        "y='john'\n"
      ],
      "metadata": {
        "colab": {
          "base_uri": "https://localhost:8080/"
        },
        "id": "aiv2G5_FOEiR",
        "outputId": "f8c88353-f201-4cbb-b6bf-4b07962f63a8"
      },
      "execution_count": null,
      "outputs": [
        {
          "output_type": "stream",
          "name": "stdout",
          "text": [
            "john\n"
          ]
        }
      ]
    },
    {
      "cell_type": "markdown",
      "source": [
        "Case Sensitive"
      ],
      "metadata": {
        "id": "8T20y3nGOdpB"
      }
    },
    {
      "cell_type": "code",
      "source": [
        "a=4\n",
        "A=\"sally\"\n",
        "#A will not overwrite a"
      ],
      "metadata": {
        "id": "tG0SoWG-OgjR"
      },
      "execution_count": null,
      "outputs": []
    },
    {
      "cell_type": "markdown",
      "source": [
        "Multiple Variable"
      ],
      "metadata": {
        "id": "Sfn4MwVmO1ap"
      }
    },
    {
      "cell_type": "code",
      "source": [
        "x,y,z = \"one\",\"two\",\"three\"\n",
        "print(x)\n",
        "print(y)\n",
        "print(z)"
      ],
      "metadata": {
        "id": "LkdepsbNO1OJ"
      },
      "execution_count": null,
      "outputs": []
    },
    {
      "cell_type": "markdown",
      "source": [
        "One value multiple variable"
      ],
      "metadata": {
        "id": "RollrciMPMfR"
      }
    },
    {
      "cell_type": "code",
      "source": [
        "x=y=z = \"four\"\n",
        "print(x)\n",
        "print(y)\n",
        "print(z)"
      ],
      "metadata": {
        "colab": {
          "base_uri": "https://localhost:8080/"
        },
        "id": "XjiYm3GwPL0p",
        "outputId": "9eaf8ed1-d5fe-43fe-a60b-dab9925ed1c5"
      },
      "execution_count": null,
      "outputs": [
        {
          "output_type": "stream",
          "name": "stdout",
          "text": [
            "four\n",
            "four\n",
            "four\n"
          ]
        }
      ]
    },
    {
      "cell_type": "markdown",
      "source": [
        "Output Variables"
      ],
      "metadata": {
        "id": "uuv0vkSbPLqh"
      }
    },
    {
      "cell_type": "code",
      "source": [
        "x=\"enjoying\"\n",
        "print(\"python programming is \" + x)"
      ],
      "metadata": {
        "colab": {
          "base_uri": "https://localhost:8080/"
        },
        "id": "-D0RbRDvPs3i",
        "outputId": "26fd5327-d509-47c2-baa5-331115ded744"
      },
      "execution_count": null,
      "outputs": [
        {
          "output_type": "stream",
          "name": "stdout",
          "text": [
            "python programming is enjoying\n"
          ]
        }
      ]
    },
    {
      "cell_type": "markdown",
      "source": [
        "Other way:"
      ],
      "metadata": {
        "id": "IvPfOXYfQICS"
      }
    },
    {
      "cell_type": "code",
      "source": [
        "x = \"python is \"\n",
        "y = \"enjoying\"\n",
        "z = x + y\n",
        "print(z)"
      ],
      "metadata": {
        "colab": {
          "base_uri": "https://localhost:8080/"
        },
        "id": "mwCDVzquQMrK",
        "outputId": "1dc841a4-45ae-4186-ab3d-6d4e51a3291e"
      },
      "execution_count": null,
      "outputs": [
        {
          "output_type": "stream",
          "name": "stdout",
          "text": [
            "python is enjoying\n"
          ]
        }
      ]
    },
    {
      "cell_type": "markdown",
      "source": [
        "Arithmetic Operation"
      ],
      "metadata": {
        "id": "13GviLTqQqF6"
      }
    },
    {
      "cell_type": "code",
      "source": [
        "x = 8\n",
        "y = 3\n",
        "print(x**2) #Exponentiation\n",
        "print(x/y) #Division\n",
        "print(x//y) #Floor Division\n",
        "print(x%y) #Modulo"
      ],
      "metadata": {
        "colab": {
          "base_uri": "https://localhost:8080/"
        },
        "id": "rFXoUqIGQt06",
        "outputId": "9f95bb85-69d5-4600-af67-73814d52b39d"
      },
      "execution_count": null,
      "outputs": [
        {
          "output_type": "stream",
          "name": "stdout",
          "text": [
            "64\n",
            "2.6666666666666665\n",
            "2\n",
            "2\n"
          ]
        }
      ]
    },
    {
      "cell_type": "markdown",
      "source": [
        "Assignment Operators"
      ],
      "metadata": {
        "id": "LUD7kLPPRQ36"
      }
    },
    {
      "cell_type": "code",
      "source": [
        "x = 3\n",
        "x*= 3 #x = x * 3\n",
        "print (x)"
      ],
      "metadata": {
        "colab": {
          "base_uri": "https://localhost:8080/"
        },
        "id": "czMg_falRU4C",
        "outputId": "4df7db8d-27a7-4641-f54e-57305a2211f9"
      },
      "execution_count": null,
      "outputs": [
        {
          "output_type": "stream",
          "name": "stdout",
          "text": [
            "9\n"
          ]
        }
      ]
    },
    {
      "cell_type": "markdown",
      "source": [
        "Comparison Operators"
      ],
      "metadata": {
        "id": "W63004uNS7wb"
      }
    },
    {
      "cell_type": "code",
      "source": [
        "x = 5\n",
        "y = 2\n",
        "\n",
        "x>y"
      ],
      "metadata": {
        "colab": {
          "base_uri": "https://localhost:8080/"
        },
        "id": "KuvGkwo8S-fj",
        "outputId": "257e9a75-f27e-4b9a-98ab-2afbffe7c65e"
      },
      "execution_count": null,
      "outputs": [
        {
          "output_type": "execute_result",
          "data": {
            "text/plain": [
              "True"
            ]
          },
          "metadata": {},
          "execution_count": 28
        }
      ]
    },
    {
      "cell_type": "markdown",
      "source": [
        "Logical Operator"
      ],
      "metadata": {
        "id": "LGjfVPt5TgCj"
      }
    },
    {
      "cell_type": "code",
      "source": [
        "x = 5\n",
        "x = 2\n",
        "\n",
        "~x>y"
      ],
      "metadata": {
        "colab": {
          "base_uri": "https://localhost:8080/"
        },
        "id": "mSR9vAP9TlML",
        "outputId": "8a39b095-f039-4eec-a387-090b715871ee"
      },
      "execution_count": null,
      "outputs": [
        {
          "output_type": "execute_result",
          "data": {
            "text/plain": [
              "False"
            ]
          },
          "metadata": {},
          "execution_count": 29
        }
      ]
    },
    {
      "cell_type": "markdown",
      "source": [
        "Bitwise Operators"
      ],
      "metadata": {
        "id": "tlruJO-3T_oE"
      }
    },
    {
      "cell_type": "code",
      "source": [
        "#decimal to binary\n",
        "#10 = 1010\n",
        "\n",
        "\n",
        "x = 10\n",
        "x>>3\n",
        "print(x)"
      ],
      "metadata": {
        "colab": {
          "base_uri": "https://localhost:8080/"
        },
        "id": "lriq8FtPUcCL",
        "outputId": "af122432-376c-4874-cdc7-6178f0f58877"
      },
      "execution_count": null,
      "outputs": [
        {
          "output_type": "stream",
          "name": "stdout",
          "text": [
            "1\n"
          ]
        }
      ]
    },
    {
      "cell_type": "markdown",
      "source": [
        "#Application 1"
      ],
      "metadata": {
        "id": "JYt4DOHjWCt8"
      }
    },
    {
      "cell_type": "code",
      "source": [
        "#Application 1\n",
        "#Area of rectangle\n",
        "\n",
        "b = input() #length\n",
        "h = input() #height\n",
        "\n",
        "area = int(b) * int(h)\n",
        "print (area)"
      ],
      "metadata": {
        "colab": {
          "base_uri": "https://localhost:8080/"
        },
        "id": "qvVmmRtXWEAT",
        "outputId": "9a74c962-ad6c-4559-9982-35f43481d37e"
      },
      "execution_count": null,
      "outputs": [
        {
          "output_type": "stream",
          "name": "stdout",
          "text": [
            "3\n",
            "6\n",
            "18\n"
          ]
        }
      ]
    },
    {
      "cell_type": "code",
      "source": [
        "\n",
        "#Area of square\n",
        "\n",
        "\n",
        "s = input() #side\n",
        "s = input() #side\n",
        "\n",
        "area = int(s) * int(s)\n",
        "print(area)\n"
      ],
      "metadata": {
        "colab": {
          "base_uri": "https://localhost:8080/"
        },
        "id": "sSLjaj5raT9V",
        "outputId": "2787d5a0-0eb0-445a-e1b8-b955ed8e24e8"
      },
      "execution_count": null,
      "outputs": [
        {
          "output_type": "stream",
          "name": "stdout",
          "text": [
            "2\n",
            "3\n",
            "9\n"
          ]
        }
      ]
    },
    {
      "cell_type": "code",
      "source": [
        "#Area of Parallelogram\n",
        "\n",
        "\n",
        "b = input() #base\n",
        "h = input() #height\n",
        "\n",
        "area = int(b) * int(h)\n",
        "print(area)\n",
        "\n"
      ],
      "metadata": {
        "colab": {
          "base_uri": "https://localhost:8080/"
        },
        "id": "Whfd-CGoa2xd",
        "outputId": "c3831ce3-3c3e-4bbd-f451-63e75d69a14d"
      },
      "execution_count": null,
      "outputs": [
        {
          "output_type": "stream",
          "name": "stdout",
          "text": [
            "5\n",
            "5\n",
            "25\n"
          ]
        }
      ]
    }
  ]
}